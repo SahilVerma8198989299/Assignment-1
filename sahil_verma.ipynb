{
 "cells": [
  {
   "cell_type": "markdown",
   "id": "7729a1fa-fe2b-4cba-a112-40da2f0632e2",
   "metadata": {},
   "source": [
    "Q1. Create one variable containing following type of data:\n",
    "(i) string\n",
    "(ii) list\n",
    "(iii) float\n",
    "(iv) tuple"
   ]
  },
  {
   "cell_type": "code",
   "execution_count": 11,
   "id": "ef961254-b287-4931-a800-0c4a1c7e8532",
   "metadata": {},
   "outputs": [
    {
     "name": "stdout",
     "output_type": "stream",
     "text": [
      "<class 'str'>\n",
      "<class 'list'>\n",
      "<class 'float'>\n",
      "<class 'tuple'>\n"
     ]
    }
   ],
   "source": [
    "a=\"sahil\"\n",
    "print(type(a))\n",
    "b=[1,2,4,5,\"sahil\",\"hello\",20.45]\n",
    "print(type(b))\n",
    "c=34.45\n",
    "print(type(c))\n",
    "d=(2,4,5,\"sahil\",\"verma\", 3.3)\n",
    "print(type(d))"
   ]
  },
  {
   "cell_type": "markdown",
   "id": "e91f4a39-37bb-42ae-a756-13bed018927f",
   "metadata": {},
   "source": [
    "Q2. Given are some following variables containing data:\n",
    "(i) var1 = ‘ ‘\n",
    "(ii) var2 = ‘[ DS , ML , Python]’\n",
    "(iii) var3 = [ ‘DS’ , ’ML’ , ‘Python’ ]\n",
    "(iv) var4 = 1.\n",
    "What will be the data type of the above given variable."
   ]
  },
  {
   "cell_type": "code",
   "execution_count": 12,
   "id": "721fc07c-a3d2-43bd-97b9-e94af7303aa0",
   "metadata": {},
   "outputs": [
    {
     "name": "stdout",
     "output_type": "stream",
     "text": [
      "<class 'str'>\n",
      "<class 'str'>\n",
      "<class 'list'>\n",
      "<class 'int'>\n"
     ]
    }
   ],
   "source": [
    "var1=''\n",
    "print(type(var1))\n",
    "var2='[DS,ML,Python]'\n",
    "print(type(var2))\n",
    "var3=['DS','ML','Python']\n",
    "print(type(var3))\n",
    "var4=1\n",
    "print(type(var4))\n"
   ]
  },
  {
   "cell_type": "markdown",
   "id": "fa4e920b-7293-4075-b1af-98b468ebed7f",
   "metadata": {},
   "source": [
    "Q3. Explain the use of the following operators using an example:\n",
    "(i) /\n",
    "(ii) %\n",
    "(iii) //\n",
    "(iv) **\n"
   ]
  },
  {
   "cell_type": "raw",
   "id": "4bcebab5-53dd-4e0a-a815-ecf70778a56b",
   "metadata": {},
   "source": [
    "Answer:\n",
    "    (i) /\n",
    "    '/' is use for divide.\n",
    "    example:\n",
    "        a=2\n",
    "        b=2\n",
    "        c=a/b\n",
    "        print(c)\n",
    "    output:\n",
    "        1\n",
    "    (ii) %  \n",
    "    '%' is a modulas and use for to find reminder when we divide a number by another number.\n",
    "    example:\n",
    "        a=4\n",
    "        b=3\n",
    "        c=a%b\n",
    "        print(c)\n",
    "    output:\n",
    "        1\n",
    "    (iii) //\n",
    "    '//' is use for to find the quotient without any decimal number.\n",
    "    example:\n",
    "        a=10\n",
    "        b=3\n",
    "        c=a//b\n",
    "        print(c)\n",
    "    output:\n",
    "        3\n",
    "    (iv) **\n",
    "    '**' is use for to find out the power of any digit.\n",
    "    example:\n",
    "        a=2\n",
    "        b=2\n",
    "        c=a**b\n",
    "        print(c)\n",
    "    output:\n",
    "        4    "
   ]
  },
  {
   "cell_type": "markdown",
   "id": "87c12a83-b363-47a8-95ea-2b2203643bf1",
   "metadata": {},
   "source": [
    "Q4. Create a list of length 10 of your choice containing multiple types of data. Using for loop print the\n",
    "element and its data type."
   ]
  },
  {
   "cell_type": "code",
   "execution_count": 13,
   "id": "0914a273-b25a-450e-a0b2-0f1c8c4e3f2b",
   "metadata": {},
   "outputs": [
    {
     "name": "stdout",
     "output_type": "stream",
     "text": [
      "24\n",
      "<class 'int'>\n",
      "1\n",
      "<class 'int'>\n",
      "2004\n",
      "<class 'int'>\n",
      "sahil\n",
      "<class 'str'>\n",
      "verma\n",
      "<class 'str'>\n",
      "95.0\n",
      "<class 'float'>\n",
      "2022\n",
      "<class 'int'>\n",
      "2026\n",
      "<class 'int'>\n",
      "True\n",
      "<class 'bool'>\n",
      "(5+9j)\n",
      "<class 'complex'>\n"
     ]
    }
   ],
   "source": [
    "list=[24,1,2004,\"sahil\", 'verma', 95.0, 2022,2026,True,5+9j]\n",
    "for i in list:\n",
    "    print(i)\n",
    "    print(type(i))"
   ]
  },
  {
   "cell_type": "markdown",
   "id": "37fa0b8e-22c5-4848-b951-6e6d5de8a322",
   "metadata": {},
   "source": [
    "Q6. Create a list containing 25 int type data. Using for loop and if-else condition print if the element is\n",
    "divisible by 3 or not."
   ]
  },
  {
   "cell_type": "code",
   "execution_count": 1,
   "id": "db88bc1d-0ecd-4e2e-a133-1ce0b09ea8e5",
   "metadata": {},
   "outputs": [
    {
     "name": "stdout",
     "output_type": "stream",
     "text": [
      "1\n",
      "2\n",
      "4\n",
      "5\n",
      "7\n",
      "8\n",
      "10\n",
      "11\n",
      "13\n",
      "14\n",
      "16\n",
      "17\n",
      "19\n",
      "20\n",
      "22\n",
      "23\n",
      "25\n"
     ]
    }
   ],
   "source": [
    "list=[1,2,3,4,5,6,7,8,9,10,11,12,13,14,15,16,17,18,19,20,21,22,23,24,25]\n",
    "for i in list:\n",
    "    if i%3!=0:\n",
    "        print(i)"
   ]
  },
  {
   "cell_type": "markdown",
   "id": "9cc9eab2-0bec-4911-bee2-b38f72ca2229",
   "metadata": {},
   "source": [
    "Q7. What do you understand about mutable and immutable data types? Give examples for both showing\n",
    "this property."
   ]
  },
  {
   "cell_type": "raw",
   "id": "15886c62-ea65-4410-b1c6-ddc73a24a267",
   "metadata": {},
   "source": [
    "Immutable:\n",
    "Immutable is the when no change is possible over time. In Python, if the value of an object cannot be changed over time, then it is known as immutable\n",
    "example: strings, tuples, etc.\n",
    "Mutable:\n",
    "Mutable is when something is changeable or has the ability to change. In Python, ‘mutable’ is the ability of objects to change their values.\n",
    "example: lists, sets, dictionarys, etc."
   ]
  }
 ],
 "metadata": {
  "kernelspec": {
   "display_name": "Python 3 (ipykernel)",
   "language": "python",
   "name": "python3"
  },
  "language_info": {
   "codemirror_mode": {
    "name": "ipython",
    "version": 3
   },
   "file_extension": ".py",
   "mimetype": "text/x-python",
   "name": "python",
   "nbconvert_exporter": "python",
   "pygments_lexer": "ipython3",
   "version": "3.10.8"
  }
 },
 "nbformat": 4,
 "nbformat_minor": 5
}
